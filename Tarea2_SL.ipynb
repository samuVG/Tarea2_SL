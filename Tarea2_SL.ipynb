{
  "nbformat": 4,
  "nbformat_minor": 0,
  "metadata": {
    "colab": {
      "name": "Tarea2_SL.ipynb",
      "provenance": []
    },
    "kernelspec": {
      "name": "python3",
      "display_name": "Python 3"
    },
    "language_info": {
      "name": "python"
    }
  },
  "cells": [
    {
      "cell_type": "markdown",
      "metadata": {
        "id": "_uwnV2IY-GN0"
      },
      "source": [
        "# Samuel Vasco González\n",
        "\n",
        "## TAREA 2. "
      ]
    },
    {
      "cell_type": "code",
      "metadata": {
        "id": "RxykjDzAfm-z"
      },
      "source": [
        "import numpy as np\n",
        "import matplotlib.pyplot as plt\n",
        "import pandas as pd"
      ],
      "execution_count": 16,
      "outputs": []
    },
    {
      "cell_type": "markdown",
      "metadata": {
        "id": "IBZ4mLzWg1Y-"
      },
      "source": [
        "###Datos de la forma $$\n",
        "y = f(\\boldsymbol x, \\theta) + \\epsilon\n",
        "$$"
      ]
    },
    {
      "cell_type": "code",
      "metadata": {
        "id": "CdwaKGvZgGPV"
      },
      "source": [
        "x = 2*np.random.rand(100,1)\n",
        "y = 4+3*x+np.random.rand(100,1)"
      ],
      "execution_count": 10,
      "outputs": []
    },
    {
      "cell_type": "markdown",
      "metadata": {
        "id": "lU-7ICgligsX"
      },
      "source": [
        "###Visualización de datos"
      ]
    },
    {
      "cell_type": "code",
      "metadata": {
        "colab": {
          "base_uri": "https://localhost:8080/",
          "height": 295
        },
        "id": "QborGm5Yguid",
        "outputId": "b4e21a5a-e2bb-40fe-a3c1-cf30c0670e8e"
      },
      "source": [
        "plt.plot(x,y,\"o\")\n",
        "plt.title(\"Visualización de datos\")\n",
        "plt.xlabel(\"x\")\n",
        "plt.ylabel(\"y\")\n",
        "plt.grid()\n",
        "plt.show()"
      ],
      "execution_count": 11,
      "outputs": [
        {
          "output_type": "display_data",
          "data": {
            "image/png": "[encoded data removed]",
            "text/plain": [
              "<Figure size 432x288 with 1 Axes>"
            ]
          },
          "metadata": {
            "tags": [],
            "needs_background": "light"
          }
        }
      ]
    },
    {
      "cell_type": "markdown",
      "metadata": {
        "id": "C2IGvWKawNlj"
      },
      "source": [
        "Modelo de aprendizaje de regresión lineal $$\n",
        "\\boldsymbol{ \\hat \\theta} = (X^T X)^{-1} X^{T} \\boldsymbol y\n",
        "$$\n",
        "Donde $\\boldsymbol{ \\hat \\theta}$ contiene los parámetros óptimos del modelo y $X$ contiene como filas las observaciones y columnas las características."
      ]
    },
    {
      "cell_type": "code",
      "metadata": {
        "colab": {
          "base_uri": "https://localhost:8080/"
        },
        "id": "u7EryyLzvnZx",
        "outputId": "98c83616-09fd-4549-cde4-c5c65f2b3bb0"
      },
      "source": [
        "X = np.c_[np.ones((100,1)), x]\n",
        "theta_hat = np.linalg.inv( X.T @ X ) @ X.T @ y\n",
        "print(\"Intercepto: {:.4} \\n Pendiente: {:.4}\".format(theta_hat[0][0],theta_hat[1][0]))"
      ],
      "execution_count": 12,
      "outputs": [
        {
          "output_type": "stream",
          "text": [
            "Intercepto: 4.491 \n",
            " Pendiente: 3.018\n"
          ],
          "name": "stdout"
        }
      ]
    },
    {
      "cell_type": "markdown",
      "metadata": {
        "id": "u-rpeImPve1L"
      },
      "source": [
        "## Solución Tarea2: \n",
        "\n",
        "Ahora entrenaremos $1000$ instancias de la regresión lineal. Se calculará el promedio y la desviación estándar, luego se graficarán los histogramas y el diagrama de cajas para los parámetros.   "
      ]
    },
    {
      "cell_type": "code",
      "metadata": {
        "colab": {
          "base_uri": "https://localhost:8080/"
        },
        "id": "AIRwu31yiu2n",
        "outputId": "2ffa2147-51d4-4486-cc87-34c75c3686ca"
      },
      "source": [
        "pendientes=[]\n",
        "interceptos=[]\n",
        "\n",
        "for i in range(1000):\n",
        "  x = 2*np.random.rand(100,1)\n",
        "  y = 4+3*x+np.random.rand(100,1)\n",
        "  X = np.c_[np.ones((100,1)), x]\n",
        "  theta_hat = np.linalg.inv( X.T @ X ) @ X.T @ y\n",
        "  interceptos.append(theta_hat[0][0])\n",
        "  pendientes.append(theta_hat[1][0])\n",
        "\n",
        "pendientes=np.array(pendientes)\n",
        "interceptos=np.array(interceptos)\n",
        "\n",
        "prom_pend=np.mean(pendientes)\n",
        "desv_pend=np.std(pendientes)\n",
        "prom_interc=np.mean(interceptos)\n",
        "desv_interc=np.std(interceptos)\n",
        "\n",
        "print(\"Parámetro Pendiente: \\n Promedio: {:.4} \\n Desviación estándar: {:.4}\".format(prom_pend,desv_pend))\n",
        "print(\"Parámetro Intercepto: \\n Promedio: {:.4} \\n Desviación estándar: {:.4}\".format(prom_interc,desv_interc))\n"
      ],
      "execution_count": 13,
      "outputs": [
        {
          "output_type": "stream",
          "text": [
            "Parámetro Pendiente: \n",
            " Promedio: 3.001 \n",
            " Desviación estándar: 0.05013\n",
            "Parámetro Intercepto: \n",
            " Promedio: 4.499 \n",
            " Desviación estándar: 0.05883\n"
          ],
          "name": "stdout"
        }
      ]
    },
    {
      "cell_type": "markdown",
      "metadata": {
        "id": "iFd9BjOZ67TW"
      },
      "source": [
        "Luego de repetir el procedimiento $1000$ veces y registrar la pendiente y el intercepto, y luego calcular el promedio y desviación estándar. \n",
        "\n",
        "Notamos que para el parámetro Pendiente la diferencia entre el valor original y el valor promediado es mínima, de aproximadamente $0.033$%, mientras que para el parámetro Intercepto tenemos una diferencia con el valor original de aproximadamente $12.47$%.\n",
        "\n",
        "Respecto a la desviación estándar para cada parámetro, aproximadamente $0.05$ para Pendiente e Intercepto, podemos decir que los datos están muy poco desviados respecto al valor promedio, lo cual nos permite afirmar que los parámetros no fluctúan mucho respecto a repetidos usos del modelo a pesar de contar con un factor de aleatoriedad, lo cual es muy importante porque admite la reproducibilidad del modelo. \n",
        "\n",
        "Los resultados anteriores nos dan una buena confiabilidad en el modelo utilizado para realizar posteriores predicciones de los datos."
      ]
    },
    {
      "cell_type": "code",
      "metadata": {
        "colab": {
          "base_uri": "https://localhost:8080/",
          "height": 417
        },
        "id": "crJ5Wny-4opE",
        "outputId": "cf797b49-453e-4665-f318-f1ef12e0a681"
      },
      "source": [
        "dataframe = np.c_[pendientes,interceptos]\n",
        "df = pd.DataFrame(dataframe,columns=[\"Pendientes\",\"Interceptos\"])\n",
        "df"
      ],
      "execution_count": 17,
      "outputs": [
        {
          "output_type": "execute_result",
          "data": {
            "text/html": [
              "<div>\n",
              "<style scoped>\n",
              "    .dataframe tbody tr th:only-of-type {\n",
              "        vertical-align: middle;\n",
              "    }\n",
              "\n",
              "    .dataframe tbody tr th {\n",
              "        vertical-align: top;\n",
              "    }\n",
              "\n",
              "    .dataframe thead th {\n",
              "        text-align: right;\n",
              "    }\n",
              "</style>\n",
              "<table border=\"1\" class=\"dataframe\">\n",
              "  <thead>\n",
              "    <tr style=\"text-align: right;\">\n",
              "      <th></th>\n",
              "      <th>Pendientes</th>\n",
              "      <th>Interceptos</th>\n",
              "    </tr>\n",
              "  </thead>\n",
              "  <tbody>\n",
              "    <tr>\n",
              "      <th>0</th>\n",
              "      <td>2.928699</td>\n",
              "      <td>4.594122</td>\n",
              "    </tr>\n",
              "    <tr>\n",
              "      <th>1</th>\n",
              "      <td>3.008724</td>\n",
              "      <td>4.477410</td>\n",
              "    </tr>\n",
              "    <tr>\n",
              "      <th>2</th>\n",
              "      <td>3.061629</td>\n",
              "      <td>4.415980</td>\n",
              "    </tr>\n",
              "    <tr>\n",
              "      <th>3</th>\n",
              "      <td>3.037385</td>\n",
              "      <td>4.465085</td>\n",
              "    </tr>\n",
              "    <tr>\n",
              "      <th>4</th>\n",
              "      <td>2.943273</td>\n",
              "      <td>4.589020</td>\n",
              "    </tr>\n",
              "    <tr>\n",
              "      <th>...</th>\n",
              "      <td>...</td>\n",
              "      <td>...</td>\n",
              "    </tr>\n",
              "    <tr>\n",
              "      <th>995</th>\n",
              "      <td>3.025833</td>\n",
              "      <td>4.446015</td>\n",
              "    </tr>\n",
              "    <tr>\n",
              "      <th>996</th>\n",
              "      <td>2.997662</td>\n",
              "      <td>4.536404</td>\n",
              "    </tr>\n",
              "    <tr>\n",
              "      <th>997</th>\n",
              "      <td>3.031845</td>\n",
              "      <td>4.471625</td>\n",
              "    </tr>\n",
              "    <tr>\n",
              "      <th>998</th>\n",
              "      <td>2.981815</td>\n",
              "      <td>4.513199</td>\n",
              "    </tr>\n",
              "    <tr>\n",
              "      <th>999</th>\n",
              "      <td>2.995779</td>\n",
              "      <td>4.481292</td>\n",
              "    </tr>\n",
              "  </tbody>\n",
              "</table>\n",
              "<p>1000 rows × 2 columns</p>\n",
              "</div>"
            ],
            "text/plain": [
              "     Pendientes  Interceptos\n",
              "0      2.928699     4.594122\n",
              "1      3.008724     4.477410\n",
              "2      3.061629     4.415980\n",
              "3      3.037385     4.465085\n",
              "4      2.943273     4.589020\n",
              "..          ...          ...\n",
              "995    3.025833     4.446015\n",
              "996    2.997662     4.536404\n",
              "997    3.031845     4.471625\n",
              "998    2.981815     4.513199\n",
              "999    2.995779     4.481292\n",
              "\n",
              "[1000 rows x 2 columns]"
            ]
          },
          "metadata": {
            "tags": []
          },
          "execution_count": 17
        }
      ]
    },
    {
      "cell_type": "code",
      "metadata": {
        "colab": {
          "base_uri": "https://localhost:8080/",
          "height": 550
        },
        "id": "zj5uYhg4Wvj_",
        "outputId": "b23adbff-0619-484a-e981-891616a6f6f5"
      },
      "source": [
        "df.hist(figsize=(15,8))"
      ],
      "execution_count": 23,
      "outputs": [
        {
          "output_type": "execute_result",
          "data": {
            "text/plain": [
              "array([[<matplotlib.axes._subplots.AxesSubplot object at 0x7f6ed0c94f10>,\n",
              "        <matplotlib.axes._subplots.AxesSubplot object at 0x7f6ed5322710>]],\n",
              "      dtype=object)"
            ]
          },
          "metadata": {
            "tags": []
          },
          "execution_count": 23
        },
        {
          "output_type": "display_data",
          "data": {
            "image/png": "[encoded data removed]",
            "text/plain": [
              "<Figure size 1080x576 with 2 Axes>"
            ]
          },
          "metadata": {
            "tags": [],
            "needs_background": "light"
          }
        }
      ]
    },
    {
      "cell_type": "markdown",
      "metadata": {
        "id": "98Rp33F7sMne"
      },
      "source": [
        "La importancia de graficar los histogramas es para obtener una primera impresión general sobre la distribución de las variables. Para los parámetros Pendientes e Interceptos ambos histogramas presentan tendencia a una distribución normal, debido a que las barras se distribuyen normal y simétricamente alrededor de la media. "
      ]
    },
    {
      "cell_type": "code",
      "metadata": {
        "colab": {
          "base_uri": "https://localhost:8080/",
          "height": 461
        },
        "id": "Oz_dmaq3ZUnI",
        "outputId": "49d02b2a-f3b8-403e-810f-99bf5513f085"
      },
      "source": [
        "df.plot(kind=\"box\",figsize=(12,7), title=\"Diagrama de cajas\")"
      ],
      "execution_count": 26,
      "outputs": [
        {
          "output_type": "execute_result",
          "data": {
            "text/plain": [
              "<matplotlib.axes._subplots.AxesSubplot at 0x7f6ed057ea50>"
            ]
          },
          "metadata": {
            "tags": []
          },
          "execution_count": 26
        },
        {
          "output_type": "display_data",
          "data": {
            "image/png": "[encoded data removed]",
            "text/plain": [
              "<Figure size 864x504 with 1 Axes>"
            ]
          },
          "metadata": {
            "tags": [],
            "needs_background": "light"
          }
        }
      ]
    },
    {
      "cell_type": "markdown",
      "metadata": {
        "id": "O3D0MF_bfVCa"
      },
      "source": [
        "Del diagrama de cajas podemos notar que tanto el parámetro Pendientes como Interceptos tienen una caja achatada, debido a lo cercano que están los datos de la media, es decir poca dispersión de datos; además, la media para ambos parámetros también se ubica en el medio de la caja, esto se puede interpretar como que la distribución se encuentra de forma simétrica alrededor de la ubicación de la media; también se presentan algunos pocos outliers que están por fuera de los bigotes, esto demostrando la presencia del error en el cálculo de los parámetros."
      ]
    },
    {
      "cell_type": "code",
      "metadata": {
        "id": "wwSaAig3r1_h"
      },
      "source": [
        ""
      ],
      "execution_count": null,
      "outputs": []
    }
  ]
}